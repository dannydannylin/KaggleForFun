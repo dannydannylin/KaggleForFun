{
 "cells": [
  {
   "cell_type": "code",
   "execution_count": 11,
   "metadata": {},
   "outputs": [],
   "source": [
    "# import module\n",
    "\n",
    "import pandas as pd\n",
    "from sklearn.feature_extraction.text import CountVectorizer\n",
    "from sklearn.feature_extraction.text import TfidfTransformer\n",
    "from sklearn.neighbors import KNeighborsClassifier\n",
    "from sklearn.svm import SVC"
   ]
  },
  {
   "cell_type": "code",
   "execution_count": 12,
   "metadata": {},
   "outputs": [],
   "source": [
    "# load data\n",
    "\n",
    "train_json = pd.read_json ( \"../data/train.json\" )\n",
    "test_json = pd.read_json ( \"../data/test.json\" )"
   ]
  },
  {
   "cell_type": "code",
   "execution_count": 13,
   "metadata": {},
   "outputs": [],
   "source": [
    "# a loads of tfidf doc\n",
    "\n",
    "# for train\n",
    "\n",
    "# x means terms in docs\n",
    "x_trian = train_json[\"ingredients\"].apply(','.join)\n",
    "# y means docs\n",
    "y_train = train_json[\"cuisine\"]\n",
    "\n",
    "\n",
    "# for test\n",
    "x_test = test_json[\"ingredients\"].apply(','.join)\n",
    "# get id\n",
    "test_id = test_json[\"id\"]"
   ]
  },
  {
   "cell_type": "code",
   "execution_count": 14,
   "metadata": {},
   "outputs": [],
   "source": [
    "# tfidf\n",
    "\n",
    "vectorizer = CountVectorizer().fit( x_trian )\n",
    "\n",
    "transformer = TfidfTransformer().fit( vectorizer.transform( x_trian ) )\n",
    "tfidf_train = transformer.transform( vectorizer.transform( x_trian ) )\n",
    "tfidf_test = transformer.transform( vectorizer.transform( x_test ) )"
   ]
  },
  {
   "cell_type": "code",
   "execution_count": 15,
   "metadata": {
    "scrolled": true
   },
   "outputs": [],
   "source": [
    "# train model\n",
    "\n",
    "clf = svm.LinearSVC( C = 0.5, max_iter = 100, random_state = 20, tol = 0.5 )\n",
    "# these parameters are refered to the Internet\n",
    "clf.fit( tfidf_train, y_train )\n",
    "y_pred = clf.predict( tfidf_test )"
   ]
  },
  {
   "cell_type": "code",
   "execution_count": 16,
   "metadata": {},
   "outputs": [],
   "source": [
    "# output prediction\n",
    "\n",
    "output_file = pd.DataFrame( { \"id\": test_id, \"cuisine\": y_pred } )\n",
    "output_file.to_csv( \"cuisine.csv\", index = False )"
   ]
  }
 ],
 "metadata": {
  "kernelspec": {
   "display_name": "Python 3",
   "language": "python",
   "name": "python3"
  },
  "language_info": {
   "codemirror_mode": {
    "name": "ipython",
    "version": 3
   },
   "file_extension": ".py",
   "mimetype": "text/x-python",
   "name": "python",
   "nbconvert_exporter": "python",
   "pygments_lexer": "ipython3",
   "version": "3.7.1"
  }
 },
 "nbformat": 4,
 "nbformat_minor": 2
}
